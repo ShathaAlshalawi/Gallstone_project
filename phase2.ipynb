{
  "nbformat": 4,
  "nbformat_minor": 0,
  "metadata": {
    "colab": {
      "provenance": [],
      "include_colab_link": true
    },
    "kernelspec": {
      "name": "python3",
      "display_name": "Python 3"
    },
    "language_info": {
      "name": "python"
    }
  },
  "cells": [
    {
      "cell_type": "markdown",
      "metadata": {
        "id": "view-in-github",
        "colab_type": "text"
      },
      "source": [
        "<a href=\"https://colab.research.google.com/github/ShathaAlshalawi/Gallstone_project/blob/main/phase2.ipynb\" target=\"_parent\"><img src=\"https://colab.research.google.com/assets/colab-badge.svg\" alt=\"Open In Colab\"/></a>"
      ]
    },
    {
      "cell_type": "code",
      "execution_count": 1,
      "metadata": {
        "id": "FVw8KIicJwPO"
      },
      "outputs": [],
      "source": [
        "# Step 1: Import libraries\n",
        "import pandas as pd\n",
        "import matplotlib.pyplot as plt\n",
        "import seaborn as sns\n",
        "import numpy as np\n",
        "from sklearn.preprocessing import MinMaxScaler"
      ]
    },
    {
      "cell_type": "code",
      "source": [
        "# Step 2: Upload file\n",
        "from google.colab import files\n",
        "uploaded = files.upload()\n",
        "\n",
        "df = pd.read_csv(\"dataset-uci.csv\")\n",
        "print(df.head())"
      ],
      "metadata": {
        "colab": {
          "base_uri": "https://localhost:8080/",
          "height": 39
        },
        "id": "P1YRFjTOXc4X",
        "outputId": "463238a6-d4c6-405d-f8b2-edc57ad6d44f"
      },
      "execution_count": null,
      "outputs": [
        {
          "output_type": "display_data",
          "data": {
            "text/plain": [
              "<IPython.core.display.HTML object>"
            ],
            "text/html": [
              "\n",
              "     <input type=\"file\" id=\"files-7acf8743-d10c-401e-8dfd-df98ba3676da\" name=\"files[]\" multiple disabled\n",
              "        style=\"border:none\" />\n",
              "     <output id=\"result-7acf8743-d10c-401e-8dfd-df98ba3676da\">\n",
              "      Upload widget is only available when the cell has been executed in the\n",
              "      current browser session. Please rerun this cell to enable.\n",
              "      </output>\n",
              "      <script>// Copyright 2017 Google LLC\n",
              "//\n",
              "// Licensed under the Apache License, Version 2.0 (the \"License\");\n",
              "// you may not use this file except in compliance with the License.\n",
              "// You may obtain a copy of the License at\n",
              "//\n",
              "//      http://www.apache.org/licenses/LICENSE-2.0\n",
              "//\n",
              "// Unless required by applicable law or agreed to in writing, software\n",
              "// distributed under the License is distributed on an \"AS IS\" BASIS,\n",
              "// WITHOUT WARRANTIES OR CONDITIONS OF ANY KIND, either express or implied.\n",
              "// See the License for the specific language governing permissions and\n",
              "// limitations under the License.\n",
              "\n",
              "/**\n",
              " * @fileoverview Helpers for google.colab Python module.\n",
              " */\n",
              "(function(scope) {\n",
              "function span(text, styleAttributes = {}) {\n",
              "  const element = document.createElement('span');\n",
              "  element.textContent = text;\n",
              "  for (const key of Object.keys(styleAttributes)) {\n",
              "    element.style[key] = styleAttributes[key];\n",
              "  }\n",
              "  return element;\n",
              "}\n",
              "\n",
              "// Max number of bytes which will be uploaded at a time.\n",
              "const MAX_PAYLOAD_SIZE = 100 * 1024;\n",
              "\n",
              "function _uploadFiles(inputId, outputId) {\n",
              "  const steps = uploadFilesStep(inputId, outputId);\n",
              "  const outputElement = document.getElementById(outputId);\n",
              "  // Cache steps on the outputElement to make it available for the next call\n",
              "  // to uploadFilesContinue from Python.\n",
              "  outputElement.steps = steps;\n",
              "\n",
              "  return _uploadFilesContinue(outputId);\n",
              "}\n",
              "\n",
              "// This is roughly an async generator (not supported in the browser yet),\n",
              "// where there are multiple asynchronous steps and the Python side is going\n",
              "// to poll for completion of each step.\n",
              "// This uses a Promise to block the python side on completion of each step,\n",
              "// then passes the result of the previous step as the input to the next step.\n",
              "function _uploadFilesContinue(outputId) {\n",
              "  const outputElement = document.getElementById(outputId);\n",
              "  const steps = outputElement.steps;\n",
              "\n",
              "  const next = steps.next(outputElement.lastPromiseValue);\n",
              "  return Promise.resolve(next.value.promise).then((value) => {\n",
              "    // Cache the last promise value to make it available to the next\n",
              "    // step of the generator.\n",
              "    outputElement.lastPromiseValue = value;\n",
              "    return next.value.response;\n",
              "  });\n",
              "}\n",
              "\n",
              "/**\n",
              " * Generator function which is called between each async step of the upload\n",
              " * process.\n",
              " * @param {string} inputId Element ID of the input file picker element.\n",
              " * @param {string} outputId Element ID of the output display.\n",
              " * @return {!Iterable<!Object>} Iterable of next steps.\n",
              " */\n",
              "function* uploadFilesStep(inputId, outputId) {\n",
              "  const inputElement = document.getElementById(inputId);\n",
              "  inputElement.disabled = false;\n",
              "\n",
              "  const outputElement = document.getElementById(outputId);\n",
              "  outputElement.innerHTML = '';\n",
              "\n",
              "  const pickedPromise = new Promise((resolve) => {\n",
              "    inputElement.addEventListener('change', (e) => {\n",
              "      resolve(e.target.files);\n",
              "    });\n",
              "  });\n",
              "\n",
              "  const cancel = document.createElement('button');\n",
              "  inputElement.parentElement.appendChild(cancel);\n",
              "  cancel.textContent = 'Cancel upload';\n",
              "  const cancelPromise = new Promise((resolve) => {\n",
              "    cancel.onclick = () => {\n",
              "      resolve(null);\n",
              "    };\n",
              "  });\n",
              "\n",
              "  // Wait for the user to pick the files.\n",
              "  const files = yield {\n",
              "    promise: Promise.race([pickedPromise, cancelPromise]),\n",
              "    response: {\n",
              "      action: 'starting',\n",
              "    }\n",
              "  };\n",
              "\n",
              "  cancel.remove();\n",
              "\n",
              "  // Disable the input element since further picks are not allowed.\n",
              "  inputElement.disabled = true;\n",
              "\n",
              "  if (!files) {\n",
              "    return {\n",
              "      response: {\n",
              "        action: 'complete',\n",
              "      }\n",
              "    };\n",
              "  }\n",
              "\n",
              "  for (const file of files) {\n",
              "    const li = document.createElement('li');\n",
              "    li.append(span(file.name, {fontWeight: 'bold'}));\n",
              "    li.append(span(\n",
              "        `(${file.type || 'n/a'}) - ${file.size} bytes, ` +\n",
              "        `last modified: ${\n",
              "            file.lastModifiedDate ? file.lastModifiedDate.toLocaleDateString() :\n",
              "                                    'n/a'} - `));\n",
              "    const percent = span('0% done');\n",
              "    li.appendChild(percent);\n",
              "\n",
              "    outputElement.appendChild(li);\n",
              "\n",
              "    const fileDataPromise = new Promise((resolve) => {\n",
              "      const reader = new FileReader();\n",
              "      reader.onload = (e) => {\n",
              "        resolve(e.target.result);\n",
              "      };\n",
              "      reader.readAsArrayBuffer(file);\n",
              "    });\n",
              "    // Wait for the data to be ready.\n",
              "    let fileData = yield {\n",
              "      promise: fileDataPromise,\n",
              "      response: {\n",
              "        action: 'continue',\n",
              "      }\n",
              "    };\n",
              "\n",
              "    // Use a chunked sending to avoid message size limits. See b/62115660.\n",
              "    let position = 0;\n",
              "    do {\n",
              "      const length = Math.min(fileData.byteLength - position, MAX_PAYLOAD_SIZE);\n",
              "      const chunk = new Uint8Array(fileData, position, length);\n",
              "      position += length;\n",
              "\n",
              "      const base64 = btoa(String.fromCharCode.apply(null, chunk));\n",
              "      yield {\n",
              "        response: {\n",
              "          action: 'append',\n",
              "          file: file.name,\n",
              "          data: base64,\n",
              "        },\n",
              "      };\n",
              "\n",
              "      let percentDone = fileData.byteLength === 0 ?\n",
              "          100 :\n",
              "          Math.round((position / fileData.byteLength) * 100);\n",
              "      percent.textContent = `${percentDone}% done`;\n",
              "\n",
              "    } while (position < fileData.byteLength);\n",
              "  }\n",
              "\n",
              "  // All done.\n",
              "  yield {\n",
              "    response: {\n",
              "      action: 'complete',\n",
              "    }\n",
              "  };\n",
              "}\n",
              "\n",
              "scope.google = scope.google || {};\n",
              "scope.google.colab = scope.google.colab || {};\n",
              "scope.google.colab._files = {\n",
              "  _uploadFiles,\n",
              "  _uploadFilesContinue,\n",
              "};\n",
              "})(self);\n",
              "</script> "
            ]
          },
          "metadata": {}
        }
      ]
    },
    {
      "cell_type": "code",
      "source": [
        "# Step 3: Read the dataset\n",
        "df = pd.read_csv(\"dataset-uci.csv\")\n",
        "print(\"Dataset shape:\", df.shape)\n",
        "df.head()"
      ],
      "metadata": {
        "id": "E49tMIa3Y94o"
      },
      "execution_count": null,
      "outputs": []
    },
    {
      "cell_type": "code",
      "source": [
        "# Step 4: Five Number Summary (for numeric columns)\n",
        "summary = df.describe().T[[\"min\", \"25%\", \"50%\", \"75%\", \"max\"]]\n",
        "print(\"Five Number Summary:\")\n",
        "print(summary)"
      ],
      "metadata": {
        "id": "nTc1SXkkZAsF"
      },
      "execution_count": null,
      "outputs": []
    },
    {
      "cell_type": "code",
      "source": [
        "# Step 5: Boxplots for numeric columns\n",
        "plt.figure(figsize=(12,6))\n",
        "sns.boxplot(data=df.select_dtypes(include=\"number\"))\n",
        "plt.title(\"Boxplots for Numeric Features\")\n",
        "plt.show()\n",
        "\n",
        "# Step 6: Detect outliers using IQR method\n",
        "outliers = {}\n",
        "for col in df.select_dtypes(include=\"number\").columns:\n",
        "    Q1 = df[col].quantile(0.25)\n",
        "    Q3 = df[col].quantile(0.75)\n",
        "    IQR = Q3 - Q1\n",
        "    lower_bound = Q1 - 1.5 * IQR\n",
        "    upper_bound = Q3 + 1.5 * IQR\n",
        "    outliers[col] = df[(df[col] < lower_bound) | (df[col] > upper_bound)][col].values\n",
        "\n",
        "print(\"Outliers detected per column:\")\n",
        "for col, vals in outliers.items():\n",
        "    print(f\"{col}: {len(vals)} outliers\")\n"
      ],
      "metadata": {
        "id": "FOYVkh4dZNLu"
      },
      "execution_count": null,
      "outputs": []
    },
    {
      "cell_type": "code",
      "source": [
        "# Step 7: Missing values count\n",
        "missing = df.isnull().sum()\n",
        "print(\"Missing values per column:\")\n",
        "print(missing[missing > 0])\n",
        "\n",
        "# Step 8: Visualize missing values\n",
        "plt.figure(figsize=(6,6))\n",
        "sns.heatmap(df.isnull(), cbar=False, cmap=\"coolwarm\")\n",
        "plt.title(\"Missing Values Heatmap\")\n",
        "plt.show()\n"
      ],
      "metadata": {
        "id": "vxupN4deJYTQ"
      },
      "execution_count": null,
      "outputs": []
    },
    {
      "cell_type": "code",
      "source": [
        "# Step 9: Save the dataset\n",
        "df.to_csv(\"Preprocessed_dataset.csv\", index=False)\n"
      ],
      "metadata": {
        "id": "H2Kdw0H1NaV_"
      },
      "execution_count": null,
      "outputs": []
    },
    {
      "cell_type": "code",
      "source": [
        "\n",
        "\n",
        "# Step 3: Scatter Plot (Age vs BMI, colored by Gallstone Status)\n",
        "plt.figure(figsize=(7,5))\n",
        "plt.scatter(df['Age'], df['Body Mass Index (BMI)'],\n",
        "            c=df['Gallstone Status'], cmap='coolwarm', alpha=0.7)\n",
        "plt.xlabel(\"Age\")\n",
        "plt.ylabel(\"BMI\")\n",
        "plt.title(\"Scatter Plot: Age vs BMI (colored by Gallstone Status)\")\n",
        "plt.colorbar(label=\"Gallstone Status\")\n",
        "plt.show()\n"
      ],
      "metadata": {
        "id": "k6Vj9KKRKqq0"
      },
      "execution_count": null,
      "outputs": []
    },
    {
      "cell_type": "code",
      "source": [
        "numeric_cols = ['Age', 'Body Mass Index (BMI)','Total Cholesterol (TC)', 'Glucose']\n",
        "\n",
        "for col in numeric_cols:\n",
        "    plt.figure(figsize=(7,5))\n",
        "    plt.hist(df[col], bins=20, color='skyblue', edgecolor='black')\n",
        "    plt.xlabel(col)\n",
        "    plt.ylabel(\"Frequency\")\n",
        "    plt.title(f\"Histogram: {col} Distribution\")\n",
        "    plt.show()"
      ],
      "metadata": {
        "id": "xntn0g14NsRu"
      },
      "execution_count": null,
      "outputs": []
    },
    {
      "cell_type": "code",
      "source": [
        "nominal_cols = ['Gender', 'Comorbidity', 'Gallstone Status']\n",
        "\n",
        "for col in nominal_cols:\n",
        "    counts = df[col].value_counts()\n",
        "    plt.figure(figsize=(6,4))\n",
        "    counts.plot(kind='bar', color=['teal','orange','red'])\n",
        "    plt.xlabel(col)\n",
        "    plt.ylabel(\"Count\")\n",
        "    plt.title(f\"Bar Plot: {col} Distribution\")\n",
        "    plt.show()"
      ],
      "metadata": {
        "id": "Im1JSoTxN1cw"
      },
      "execution_count": null,
      "outputs": []
    },
    {
      "cell_type": "code",
      "source": [
        "df['Gallstone Status'].value_counts()"
      ],
      "metadata": {
        "id": "BdGOvd0BPgKf"
      },
      "execution_count": null,
      "outputs": []
    },
    {
      "cell_type": "code",
      "source": [
        "class_counts = df['Gallstone Status'].value_counts()\n",
        "plt.figure(figsize=(6,4))\n",
        "class_counts.plot(kind='bar', color=['green','red'])\n",
        "plt.xlabel(\"Gallstone Status (0=No, 1=Yes)\")\n",
        "plt.ylabel(\"Count\")\n",
        "plt.title(\"Class Label Distribution: Gallstone Status\")\n",
        "plt.show()\n",
        "\n",
        "print(\"Class label counts:\\n\", class_counts)"
      ],
      "metadata": {
        "id": "CvoU5V1HPoU4"
      },
      "execution_count": null,
      "outputs": []
    },
    {
      "cell_type": "code",
      "source": [
        "#Apply normalization to numeric attributes scale different numeric ranges into the same  scale Using MinMaxScaler\n",
        "\n",
        "normalization_columns = ['Age', 'Body Mass Index (BMI)', 'Total Cholesterol (TC)', 'Glucose']\n",
        "\n",
        "scaler = MinMaxScaler()\n",
        "normalized_data = scaler.fit_transform(df[normalization_columns])\n",
        "\n",
        "df_normalized = pd.DataFrame(\n",
        "    normalized_data,\n",
        "    columns=[col + '_normalized' for col in normalization_columns]\n",
        ")\n",
        "\n",
        "df_normalized.describe()"
      ],
      "metadata": {
        "id": "Fr9lts7LS74R"
      },
      "execution_count": null,
      "outputs": []
    },
    {
      "cell_type": "code",
      "source": [
        "# Applied variable transformation using log1p to reduce skewness and make distributions more symmetric ,automatically select attributes with skewness > 0.8\n",
        "\n",
        "numeric_columns = ['Age', 'Body Mass Index (BMI)', 'Total Cholesterol (TC)', 'Glucose']\n",
        "skewness_values = df[numeric_columns].skew()\n",
        "\n",
        "high_skew_columns = skewness_values[abs(skewness_values) > 0.8].index.tolist()\n",
        "\n",
        "df_processed = df.copy()\n",
        "for column in high_skew_columns:\n",
        "    df_processed[column + '_log'] = np.log1p(df[column])\n",
        "\n",
        "df_processed[[col for col in df_processed.columns if '_log' in col]].head()"
      ],
      "metadata": {
        "id": "s0s5iF8wTFie"
      },
      "execution_count": null,
      "outputs": []
    },
    {
      "cell_type": "code",
      "source": [
        "#Provide clear before/after visualization and justification to show  improvement after preprocessing\n",
        "\n",
        "\n",
        "fig, axes = plt.subplots(2, 2, figsize=(14, 10))\n",
        "\n",
        "# Plot 1: Age normalization\n",
        "axes[0, 0].hist(df['Age'], bins=15, alpha=0.7, color='skyblue', label='Before')\n",
        "axes[0, 0].hist(df_normalized['Age_normalized'], bins=15, alpha=0.7, color='Red', label='After')\n",
        "axes[0, 0].set_title('Normalization: Age Distribution')\n",
        "axes[0, 0].legend()\n",
        "\n",
        "# Plot 2: BMI normalization\n",
        "axes[0, 1].hist(df['Body Mass Index (BMI)'], bins=15, alpha=0.7, color='Pink', label='Before')\n",
        "axes[0, 1].hist(df_normalized['Body Mass Index (BMI)_normalized'], bins=15, alpha=0.7, color='Silver', label='After')\n",
        "axes[0, 1].set_title('Normalization: BMI Distribution')\n",
        "axes[0, 1].legend()\n",
        "\n",
        "# Plot 3–4: Log transform comparison\n",
        "if high_skew_columns:\n",
        "    example_column = high_skew_columns[0]\n",
        "    axes[1, 0].hist(df[example_column], bins=15, alpha=0.7, color='Purple', label='Before')\n",
        "    axes[1, 0].set_title(f'Before Transformation: {example_column}')\n",
        "    axes[1, 0].legend()\n",
        "\n",
        "    axes[1, 1].hist(df_processed[example_column + '_log'], bins=15, alpha=0.7, color='Beige', label='After')\n",
        "    axes[1, 1].set_title(f'After Log Transformation: {example_column}')\n",
        "    axes[1, 1].legend()\n",
        "\n",
        "plt.tight_layout()\n",
        "plt.show()"
      ],
      "metadata": {
        "id": "WyvdqZp9UVJR"
      },
      "execution_count": null,
      "outputs": []
    },
    {
      "cell_type": "code",
      "source": [
        "#Feature Selection\n",
        "\n",
        "# (A) Drop columns with >40% missing values\n",
        "missing_ratio = df.isna().mean()\n",
        "to_drop_missing = list(missing_ratio[missing_ratio > 0.40].index)\n",
        "df = df.drop(columns=to_drop_missing)\n",
        "report[\"drop_missing_gt40\"] = to_drop_missing\n",
        "\n",
        "# (B) Drop columns with very low variance (only one unique value)\n",
        "low_var_cols = []\n",
        "for c in df.columns:\n",
        "    if df[c].nunique(dropna=True) <= 1:\n",
        "        low_var_cols.append(c)\n",
        "df = df.drop(columns=low_var_cols)\n",
        "report[\"drop_low_variance\"] = low_var_cols\n",
        "\n",
        "# (C) Drop identifier-like columns (name looks like id OR almost unique values)\n",
        "id_like_cols = []\n",
        "n = len(df)\n",
        "for c in df.columns:\n",
        "    name_is_id = any(p in str(c) for p in [\"id\",\"ID\",\"Id\",\"serial\",\"Serial\",\"index\",\"Index\"])\n",
        "    nunique = df[c].nunique(dropna=True)\n",
        "    uniq_ratio = (nunique / n) if n else 0\n",
        "    if name_is_id or (uniq_ratio > 0.98 and nunique > 30):  # almost each row unique\n",
        "        id_like_cols.append(c)\n",
        "\n",
        "df = df.drop(columns=id_like_cols)\n",
        "report[\"drop_identifier_like\"] = id_like_cols\n",
        "\n",
        "# (D) Drop highly correlated numeric columns (|corr| > 0.92)\n",
        "num_cols = df.select_dtypes(include=[np.number]).columns.tolist()\n",
        "to_drop_corr = []\n",
        "if len(num_cols) > 1:\n",
        "    corr = df[num_cols].corr().abs()\n",
        "    # simple upper-triangle pass\n",
        "    checked = set()\n",
        "    for col in corr.columns:\n",
        "        for row in corr.index:\n",
        "            if row != col and (row, col) not in checked and (col, row) not in checked:\n",
        "                if corr.loc[row, col] > 0.92:\n",
        "                    # drop the later column to avoid duplicates\n",
        "                    if col not in to_drop_corr:\n",
        "                        to_drop_corr.append(col)\n",
        "                checked.add((row, col))\n",
        "\n",
        "df = df.drop(columns=to_drop_corr, errors=\"ignore\")\n",
        "report[\"drop_high_corr\"] = to_drop_corr\n",
        "\n",
        "print(\"After feature selection:\", df.shape)\n",
        "report"
      ],
      "metadata": {
        "id": "EN9LEKzkyCuM"
      },
      "execution_count": null,
      "outputs": []
    },
    {
      "cell_type": "code",
      "source": [
        "#Noise removal (remove rows with extreme z-score > 3 in any numeric column)\n",
        "\n",
        "num_cols = df.select_dtypes(include=[np.number]).columns.tolist()\n",
        "rows_removed = 0\n",
        "\n",
        "if len(num_cols) > 0:\n",
        "    means = df[num_cols].mean()\n",
        "    stds  = df[num_cols].std(ddof=0).replace(0, np.nan)  # avoid divide by zero\n",
        "    z = (df[num_cols] - means) / stds\n",
        "    outlier_rows = (z.abs() > 3).any(axis=1)  # any numeric col exceeds 3\n",
        "    rows_removed = int(outlier_rows.sum())\n",
        "    df = df.loc[~outlier_rows].copy()\n",
        "\n",
        "print(\"Rows removed as outliers (|z|>3):\", rows_removed)\n",
        "print(\"Final shape:\", df.shape)"
      ],
      "metadata": {
        "id": "WphyZ5IO1RTj"
      },
      "execution_count": null,
      "outputs": []
    }
  ]
}