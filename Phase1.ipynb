{
  "nbformat": 4,
  "nbformat_minor": 0,
  "metadata": {
    "colab": {
      "provenance": [],
      "include_colab_link": true
    },
    "kernelspec": {
      "name": "python3",
      "display_name": "Python 3"
    },
    "language_info": {
      "name": "python"
    }
  },
  "cells": [
    {
      "cell_type": "markdown",
      "metadata": {
        "id": "view-in-github",
        "colab_type": "text"
      },
      "source": [
        "<a href=\"https://colab.research.google.com/github/ShathaAlshalawi/Gallstone_project/blob/main/Phase1.ipynb\" target=\"_parent\"><img src=\"https://colab.research.google.com/assets/colab-badge.svg\" alt=\"Open In Colab\"/></a>"
      ]
    },
    {
      "cell_type": "markdown",
      "source": [
        "Project Goal\n",
        "The goal of this project is to classify patients based on Gallstone status using health and body-composition features (e.g., age, weight, cholesterol).\n",
        "This helps with early detection, reducing complications, and increasing healthcare awareness."
      ],
      "metadata": {
        "id": "ctgNeZKDhVez"
      }
    },
    {
      "cell_type": "markdown",
      "source": [
        "Dataset Source\n",
        "The dataset Gallstone-1 was obtained from the UCI mechine learning repository: (https://archive.ics.uci.edu/dataset/1150/gallstone-1) It contains more than 500 rows and over 10 attributes, making it suitable for classification tasks."
      ],
      "metadata": {
        "id": "WVEad_JphZ4S"
      }
    },
    {
      "cell_type": "code",
      "source": [
        "import pandas as pd\n",
        "\n",
        "DATA_PATH = \"dataset-uci.xlsx\"\n",
        "df = pd.read_excel(DATA_PATH)\n",
        "\n",
        "class_col = \"Gallstone status\"\n",
        "\n",
        "# 1) Number and data types of attributes (features)\n",
        "features = df.drop(columns=[class_col], errors=\"ignore\")\n",
        "print(\"Number of attributes:\", features.shape[1])\n",
        "print(\"\\nData types of attributes:\\n\", features.dtypes)\n",
        "\n",
        "# 2) Number of objects (instances/records)\n",
        "print(\"\\nNumber of instances:\", df.shape[0])\n",
        "\n",
        "# 3) Class attribute with its values and count for each label\n",
        "print(\"\\nClass attribute:\", class_col)\n",
        "print(\"\\nClass distribution:\\n\", df[class_col].value_counts(dropna=False))\n",
        "print(\"\\nNumber of classes:\", df[class_col].nunique(dropna=False))\n",
        "\n",
        "# 4) Print a sample of the raw dataset\n",
        "print(\"\\nSample of dataset:\")\n",
        "print(df.head(5))"
      ],
      "metadata": {
        "id": "vf9ldITHhgQN"
      },
      "execution_count": null,
      "outputs": []
    }
  ]
}