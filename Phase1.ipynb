{
  "nbformat": 4,
  "nbformat_minor": 0,
  "metadata": {
    "colab": {
      "provenance": [],
      "include_colab_link": true
    },
    "kernelspec": {
      "name": "python3",
      "display_name": "Python 3"
    },
    "language_info": {
      "name": "python"
    }
  },
  "cells": [
    {
      "cell_type": "markdown",
      "metadata": {
        "id": "view-in-github",
        "colab_type": "text"
      },
      "source": [
        "<a href=\"https://colab.research.google.com/github/ShathaAlshalawi/Gallstone_project/blob/main/Phase1.ipynb\" target=\"_parent\"><img src=\"https://colab.research.google.com/assets/colab-badge.svg\" alt=\"Open In Colab\"/></a>"
      ]
    },
    {
      "cell_type": "markdown",
      "source": [
        "**Project Goal**\n",
        "The goal of this project is to classify patients based on Gallstone status using health and body-composition features (e.g., age, weight, cholesterol).\n",
        "This helps with early detection, reducing complications, and increasing healthcare awareness."
      ],
      "metadata": {
        "id": "ctgNeZKDhVez"
      }
    },
    {
      "cell_type": "markdown",
      "source": [
        "**Dataset Source**\n",
        "The dataset Gallstone-1 was obtained from the UCI mechine learning repository: (https://archive.ics.uci.edu/dataset/1150/gallstone-1) It contains more than 500 rows and over 10 attributes, making it suitable for classification tasks."
      ],
      "metadata": {
        "id": "WVEad_JphZ4S"
      }
    },
    {
      "cell_type": "code",
      "source": [
        "import pandas as pd\n",
        "\n",
        "DATA_PATH = \"dataset-uci.csv\"\n",
        "df = pd.read_csv(DATA_PATH , sep=\";\")\n",
        "\n",
        "\n",
        "class_col = \"Gallstone Status\"\n",
        "\n",
        "# 1) Number and data types of attributes (features)\n",
        "features = df.drop(columns=[class_col], errors=\"ignore\")\n",
        "print(\"Number of attributes:\", features.shape[1])\n",
        "print(\"\\nData types of attributes:\\n\", features.dtypes)\n",
        "\n",
        "# 2) Number of objects (instances/records)\n",
        "print(\"\\nNumber of instances:\", df.shape[0])\n",
        "\n",
        "# 3) Class attribute with its values and count for each label\n",
        "print(\"\\nClass attribute:\", class_col)\n",
        "print(\"\\nClass distribution:\\n\", df[class_col].value_counts(dropna=False))\n",
        "print(\"\\nNumber of classes:\", df[class_col].nunique(dropna=False))\n",
        "\n",
        "# 4) Print a sample of the raw dataset\n",
        "print(\"\\nSample of dataset:\")\n",
        "print(df.head(5))\n",
        "\n"
      ],
      "metadata": {
        "id": "vf9ldITHhgQN",
        "outputId": "7cd6bc4c-0a29-4ec0-dbe6-09651de991a4",
        "colab": {
          "base_uri": "https://localhost:8080/"
        }
      },
      "execution_count": 14,
      "outputs": [
        {
          "output_type": "stream",
          "name": "stdout",
          "text": [
            "Number of attributes: 38\n",
            "\n",
            "Data types of attributes:\n",
            " Age                                                 int64\n",
            "Gender                                              int64\n",
            "Comorbidity                                         int64\n",
            "Coronary Artery Disease (CAD)                       int64\n",
            "Hypothyroidism                                      int64\n",
            "Hyperlipidemia                                      int64\n",
            "Diabetes Mellitus (DM)                              int64\n",
            "Height                                              int64\n",
            "Weight                                            float64\n",
            "Body Mass Index (BMI)                             float64\n",
            "Total Body Water (TBW)                            float64\n",
            "Extracellular Water (ECW)                         float64\n",
            "Intracellular Water (ICW)                         float64\n",
            "Extracellular Fluid/Total Body Water (ECF/TBW)    float64\n",
            "Total Body Fat Ratio (TBFR) (%)                   float64\n",
            "Lean Mass (LM) (%)                                float64\n",
            "Body Protein Content (Protein) (%)                float64\n",
            "Visceral Fat Rating (VFR)                           int64\n",
            "Bone Mass (BM)                                    float64\n",
            "Muscle Mass (MM)                                  float64\n",
            "Obesity (%)                                       float64\n",
            "Total Fat Content (TFC)                           float64\n",
            "Visceral Fat Area (VFA)                           float64\n",
            "Visceral Muscle Area (VMA) (Kg)                   float64\n",
            "Hepatic Fat Accumulation (HFA)                      int64\n",
            "Glucose                                           float64\n",
            "Total Cholesterol (TC)                            float64\n",
            "Low Density Lipoprotein (LDL)                     float64\n",
            "High Density Lipoprotein (HDL)                    float64\n",
            "Triglyceride                                      float64\n",
            "Aspartat Aminotransferaz (AST)                    float64\n",
            "Alanin Aminotransferaz (ALT)                      float64\n",
            "Alkaline Phosphatase (ALP)                        float64\n",
            "Creatinine                                        float64\n",
            "Glomerular Filtration Rate (GFR)                  float64\n",
            "C-Reactive Protein (CRP)                          float64\n",
            "Hemoglobin (HGB)                                  float64\n",
            "Vitamin D                                         float64\n",
            "dtype: object\n",
            "\n",
            "Number of instances: 319\n",
            "\n",
            "Class attribute: Gallstone Status\n",
            "\n",
            "Class distribution:\n",
            " Gallstone Status\n",
            "0    161\n",
            "1    158\n",
            "Name: count, dtype: int64\n",
            "\n",
            "Number of classes: 2\n",
            "\n",
            "Sample of dataset:\n",
            "   Gallstone Status  Age  Gender  Comorbidity  Coronary Artery Disease (CAD)  \\\n",
            "0                 0   50       0            0                              0   \n",
            "1                 0   47       0            1                              0   \n",
            "2                 0   61       0            0                              0   \n",
            "3                 0   41       0            0                              0   \n",
            "4                 0   42       0            0                              0   \n",
            "\n",
            "   Hypothyroidism  Hyperlipidemia  Diabetes Mellitus (DM)  Height  Weight  \\\n",
            "0               0               0                       0     185    92.8   \n",
            "1               0               0                       0     176    94.5   \n",
            "2               0               0                       0     171    91.1   \n",
            "3               0               0                       0     168    67.7   \n",
            "4               0               0                       0     178    89.6   \n",
            "\n",
            "   ...  High Density Lipoprotein (HDL)  Triglyceride  \\\n",
            "0  ...                            40.0         134.0   \n",
            "1  ...                            43.0         103.0   \n",
            "2  ...                            43.0          69.0   \n",
            "3  ...                            59.0          53.0   \n",
            "4  ...                            30.0         326.0   \n",
            "\n",
            "   Aspartat Aminotransferaz (AST)  Alanin Aminotransferaz (ALT)  \\\n",
            "0                            20.0                          22.0   \n",
            "1                            14.0                          13.0   \n",
            "2                            18.0                          14.0   \n",
            "3                            20.0                          12.0   \n",
            "4                            27.0                          54.0   \n",
            "\n",
            "   Alkaline Phosphatase (ALP)  Creatinine  Glomerular Filtration Rate (GFR)  \\\n",
            "0                        87.0        0.82                            112.47   \n",
            "1                        46.0        0.87                            107.10   \n",
            "2                        66.0        1.25                             65.51   \n",
            "3                        34.0        1.02                             94.10   \n",
            "4                        71.0        0.82                            112.47   \n",
            "\n",
            "   C-Reactive Protein (CRP)  Hemoglobin (HGB)  Vitamin D  \n",
            "0                       0.0              16.0       33.0  \n",
            "1                       0.0              14.4       25.0  \n",
            "2                       0.0              16.2       30.2  \n",
            "3                       0.0              15.4       35.4  \n",
            "4                       0.0              16.8       40.6  \n",
            "\n",
            "[5 rows x 39 columns]\n"
          ]
        }
      ]
    }
  ]
}